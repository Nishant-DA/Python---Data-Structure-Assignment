{
  "nbformat": 4,
  "nbformat_minor": 0,
  "metadata": {
    "colab": {
      "provenance": []
    },
    "kernelspec": {
      "name": "python3",
      "display_name": "Python 3"
    },
    "language_info": {
      "name": "python"
    }
  },
  "cells": [
    {
      "cell_type": "markdown",
      "source": [
        "# **Data Types and Structures Questions**"
      ],
      "metadata": {
        "id": "6tmXXqrlr0-s"
      }
    },
    {
      "cell_type": "code",
      "execution_count": 1,
      "metadata": {
        "id": "Z8FszK1VdLBo"
      },
      "outputs": [],
      "source": [
        "# 1) What are data structures, and why are they important ?\n",
        "\n",
        "# --> Data structure is the place which is used to organize store the data. It is important because it helps in searching, sorting and updating the data."
      ]
    },
    {
      "cell_type": "code",
      "source": [
        "# 2)  Explain the difference between mutable and immutable data types with examples ?\n",
        "\n",
        "# --> In mutable data types the values we have entered earlier can be changeable.\n",
        "#     In immutable data types the values we have entered earlier can't be changeable.\n",
        "\n",
        "#     For example: mutable data types = list = [1,2,3,4] & dictionaries = {\"a\":4}\n",
        "#     Immutable data types = tuples = (1,2,3,4,5) & strings = (\"apple\")"
      ],
      "metadata": {
        "id": "kFUJGehzeIoG"
      },
      "execution_count": 5,
      "outputs": []
    },
    {
      "cell_type": "code",
      "source": [
        "# 3) What are the main differences between lists and tuples in Python ?\n",
        "\n",
        "# --> Lists are mutable data types | Tuples are immutable data types\n",
        "#     List has dynamic data | Tuple has fixed data\n",
        "#     List syntax is = [1,2,3] | Tuple syntax is = (1,2,3)"
      ],
      "metadata": {
        "id": "7n6_87_hfXIw"
      },
      "execution_count": 6,
      "outputs": []
    },
    {
      "cell_type": "code",
      "source": [
        "# 4) Describe how dictionaries store data.\n",
        "\n",
        "# --> Dictionaries store data in key-values pair format."
      ],
      "metadata": {
        "id": "B83hryBDgGMM"
      },
      "execution_count": 7,
      "outputs": []
    },
    {
      "cell_type": "code",
      "source": [
        "# 5) Why might you use a set instead of a list in Python ?\n",
        "\n",
        "# --> If I have the fix value that is constant and did'nt need change in it, for example: longitude | latitude, in this situation I might use a set instead of a list. Set also helps to remove duplicate data."
      ],
      "metadata": {
        "id": "XkpKV0bXgejl"
      },
      "execution_count": 8,
      "outputs": []
    },
    {
      "cell_type": "code",
      "source": [
        "# 6)  What is a string in Python, and how is it different from a list ?\n",
        "\n",
        "# --> String is a immutable | List is a mutable\n",
        "#     We cannot modify string | We can modify list\n",
        "#     list can also include different types of data types."
      ],
      "metadata": {
        "id": "ta3op60EhQMG"
      },
      "execution_count": 9,
      "outputs": []
    },
    {
      "cell_type": "code",
      "source": [
        "# 7) How do tuples ensure data integrity in Python ?\n",
        "\n",
        "# --> Tuples are immutable as the value can't be changed once defined. So this feature of tuple keeps the entered value protect and ensures the safety of data.\n"
      ],
      "metadata": {
        "id": "j608TYvTiU9Q"
      },
      "execution_count": 10,
      "outputs": []
    },
    {
      "cell_type": "code",
      "source": [
        "# 8) What is a hash table, and how does it relate to dictionaries in Python ?\n",
        "\n",
        "# --> Hash table is a data structure that keeps the key and the values together. We use it in implementation of python in dictionaries."
      ],
      "metadata": {
        "id": "jv5QI3FZjzT9"
      },
      "execution_count": 11,
      "outputs": []
    },
    {
      "cell_type": "code",
      "source": [
        "# 9) Can lists contain different data types in Python ?\n",
        "\n",
        "# --> Yes, lists can contain different data types in python. For example: list1 = [1, \"apple\", 1.4, [2,4]]"
      ],
      "metadata": {
        "id": "8Ylb6OockZwT"
      },
      "execution_count": 12,
      "outputs": []
    },
    {
      "cell_type": "code",
      "source": [
        "# 10) Explain why strings are immutable in Python ?\n",
        "\n",
        "# --> I think it improves performance and best to ensure thread safety."
      ],
      "metadata": {
        "id": "_YNUndrfk2h5"
      },
      "execution_count": 14,
      "outputs": []
    },
    {
      "cell_type": "code",
      "source": [
        "# 11) What advantages do dictionaries offer over lists for certain tasks ?\n",
        "\n",
        "# --> It offers key-values like structure, which helps to store data neatly. This key-value structure helps to track the data very easily."
      ],
      "metadata": {
        "id": "e3-ZtZ1ZlpPz"
      },
      "execution_count": 15,
      "outputs": []
    },
    {
      "cell_type": "code",
      "source": [
        "# 12) Describe a scenario where using a tuple would be preferable over a list ?\n",
        "\n",
        "# --> I would prefer using tuple when I have a fix value that woudn't require any changes. For example values like: longitude and latitude."
      ],
      "metadata": {
        "id": "eayWiCixmghW"
      },
      "execution_count": 16,
      "outputs": []
    },
    {
      "cell_type": "code",
      "source": [
        "# 13) How do sets handle duplicate values in Python ?\n",
        "\n",
        "# --> Set automatically erase the duplicate value.\n",
        "#     For example: set = (1,2,2,3,5,5) --> set = (1,2,3,5)"
      ],
      "metadata": {
        "id": "oZDo3QYxnHsr"
      },
      "execution_count": 17,
      "outputs": []
    },
    {
      "cell_type": "code",
      "source": [
        "# 14) How does the “in” keyword work differently for lists and dictionaries ?\n",
        "\n",
        "# --> In list it checks if the value exist or not.\n",
        "#     In dictionaries it cheks if the key exist or not."
      ],
      "metadata": {
        "id": "xzqPE8_FnmNX"
      },
      "execution_count": 18,
      "outputs": []
    },
    {
      "cell_type": "code",
      "source": [
        "# 15) Can you modify the elements of a tuple? Explain why or why not ?\n",
        "\n",
        "# --> No, I could not modify the elements of a tuple because tuple is immutable data type. We can't do any changes once the elements are defined."
      ],
      "metadata": {
        "id": "26LTkfMFoD72"
      },
      "execution_count": 19,
      "outputs": []
    },
    {
      "cell_type": "code",
      "source": [
        "# 16) What is a nested dictionary, and give an example of its use case ?\n",
        "\n",
        "# --> Nested dictionary is dictionary inside a dictionary.\n",
        "#     For example: dict_1 = {\"grp1\": {\"a\":52, \"b\":36, \"c\":63}, \"grp2\": {\"d\":8, \"e\":85, \"f\":96}}"
      ],
      "metadata": {
        "id": "OflGUBhBolfK"
      },
      "execution_count": 20,
      "outputs": []
    },
    {
      "cell_type": "code",
      "source": [
        "# 17) Describe the time complexity of accessing elements in a dictionary ?\n",
        "\n",
        "# --> Constant time."
      ],
      "metadata": {
        "id": "HYqvH4PUpn_u"
      },
      "execution_count": 21,
      "outputs": []
    },
    {
      "cell_type": "code",
      "source": [
        "# 18) In what situations are lists preferred over dictionaries ?\n",
        "\n",
        "# --> When the order of element matters | When we want to sort the data sequentially"
      ],
      "metadata": {
        "id": "RSq25v45p3MG"
      },
      "execution_count": 22,
      "outputs": []
    },
    {
      "cell_type": "code",
      "source": [
        "# 19)  Why are dictionaries considered unordered, and how does that affect data retrieval ?\n",
        "\n",
        "# --> Dictionaries considered as unordered because the primary focus is on key-values not on sequence."
      ],
      "metadata": {
        "id": "lKDAcnCYqU1y"
      },
      "execution_count": 23,
      "outputs": []
    },
    {
      "cell_type": "code",
      "source": [
        "# 20)  Explain the difference between a list and a dictionary in terms of data retrieval.\n",
        "\n",
        "# --> List are accessed by index = --> my_list(0)\n",
        "#     Dictionaries are accessed by keys = --> my_dict[\"key\"]"
      ],
      "metadata": {
        "id": "W1tEKe64q5Vh"
      },
      "execution_count": 24,
      "outputs": []
    },
    {
      "cell_type": "markdown",
      "source": [
        "# **Practical Questions**"
      ],
      "metadata": {
        "id": "YQxzoJxFsC58"
      }
    },
    {
      "cell_type": "code",
      "source": [
        "# 1) Write a code to create a string with your name and print it.\n",
        "\n",
        "name = \"Nishant\"\n",
        "print(name)"
      ],
      "metadata": {
        "colab": {
          "base_uri": "https://localhost:8080/"
        },
        "id": "f10mThLgrZsH",
        "outputId": "4171a302-1e88-4101-afbd-452bb40f41ed"
      },
      "execution_count": 26,
      "outputs": [
        {
          "output_type": "stream",
          "name": "stdout",
          "text": [
            "Nishant\n"
          ]
        }
      ]
    },
    {
      "cell_type": "code",
      "source": [
        "# 2) Write a code to find the length of the string \"Hello World\".\n",
        "text = \"Hello World\"\n",
        "print(len(text))"
      ],
      "metadata": {
        "colab": {
          "base_uri": "https://localhost:8080/"
        },
        "id": "SchSSR_tvS5k",
        "outputId": "e0869188-8885-480e-9cfd-c10169a3bdfa"
      },
      "execution_count": 29,
      "outputs": [
        {
          "output_type": "stream",
          "name": "stdout",
          "text": [
            "11\n"
          ]
        }
      ]
    },
    {
      "cell_type": "code",
      "source": [
        "# 3) Write a code to slice the first 3 characters from the string \"Python Programming\".\n",
        "text = \"Python Programming\"\n",
        "print(text[0:3])"
      ],
      "metadata": {
        "colab": {
          "base_uri": "https://localhost:8080/"
        },
        "id": "_9bUzW75vwcR",
        "outputId": "a49b5f51-af67-4504-e1c5-fd64f8dcce79"
      },
      "execution_count": 33,
      "outputs": [
        {
          "output_type": "stream",
          "name": "stdout",
          "text": [
            "Pyt\n"
          ]
        }
      ]
    },
    {
      "cell_type": "code",
      "source": [
        "# 4) Write a code to convert the string \"hello\" to uppercase.\n",
        "text = \"hello\"\n",
        "print(text.upper())"
      ],
      "metadata": {
        "colab": {
          "base_uri": "https://localhost:8080/"
        },
        "id": "nkCnmsYHwMbb",
        "outputId": "f133ba8c-ce68-426c-9607-d4235a6a803b"
      },
      "execution_count": 41,
      "outputs": [
        {
          "output_type": "stream",
          "name": "stdout",
          "text": [
            "HELLO\n"
          ]
        }
      ]
    },
    {
      "cell_type": "code",
      "source": [
        "# 5) Write a code to replace the word \"apple\" with \"orange\" in the string \"I like apple\".\n",
        "text = \"I like apple\"\n",
        "text.replace(\"apple\", \"orange\")"
      ],
      "metadata": {
        "colab": {
          "base_uri": "https://localhost:8080/",
          "height": 36
        },
        "id": "Q67E6eRXwudd",
        "outputId": "5fba4a64-e200-4b36-8cb8-8eac8fcc79e7"
      },
      "execution_count": 43,
      "outputs": [
        {
          "output_type": "execute_result",
          "data": {
            "text/plain": [
              "'I like orange'"
            ],
            "application/vnd.google.colaboratory.intrinsic+json": {
              "type": "string"
            }
          },
          "metadata": {},
          "execution_count": 43
        }
      ]
    },
    {
      "cell_type": "code",
      "source": [
        "# 6) Write a code to create a list with numbers 1 to 5 and print it.\n",
        "list = [1,2,3,4,5]\n",
        "print(list)"
      ],
      "metadata": {
        "colab": {
          "base_uri": "https://localhost:8080/"
        },
        "id": "y_uoDz3BxJ9L",
        "outputId": "69838a7d-824c-4821-b800-89b1ecd5625f"
      },
      "execution_count": 45,
      "outputs": [
        {
          "output_type": "stream",
          "name": "stdout",
          "text": [
            "[1, 2, 3, 4, 5]\n"
          ]
        }
      ]
    },
    {
      "cell_type": "code",
      "source": [
        "# 7) Write a code to append the number 10 to the list [1, 2, 3, 4].\n",
        "list1 = [1,2,3,4]\n",
        "list1.append(10)\n",
        "print(list1)"
      ],
      "metadata": {
        "colab": {
          "base_uri": "https://localhost:8080/"
        },
        "id": "Y7Ah7IapxV7S",
        "outputId": "dc06c410-f978-40eb-e995-12acdd63f6e2"
      },
      "execution_count": 53,
      "outputs": [
        {
          "output_type": "stream",
          "name": "stdout",
          "text": [
            "[1, 2, 3, 4, 10]\n"
          ]
        }
      ]
    },
    {
      "cell_type": "code",
      "source": [
        "# 8) Write a code to remove the number 3 from the list [1, 2, 3, 4, 5].\n",
        "list1 = [1, 2, 3, 4, 5]\n",
        "list1.remove(3)\n",
        "print(list1)"
      ],
      "metadata": {
        "colab": {
          "base_uri": "https://localhost:8080/"
        },
        "id": "K4uadt5Qx5R1",
        "outputId": "8288aff5-ec36-4000-987c-99bc066e5fc8"
      },
      "execution_count": 56,
      "outputs": [
        {
          "output_type": "stream",
          "name": "stdout",
          "text": [
            "[1, 2, 4, 5]\n"
          ]
        }
      ]
    },
    {
      "cell_type": "code",
      "source": [
        "# 9) Write a code to access the second element in the list ['a', 'b', 'c', 'd'].\n",
        "list1 = ['a', 'b', 'c', 'd']\n",
        "print(list1[1])"
      ],
      "metadata": {
        "colab": {
          "base_uri": "https://localhost:8080/"
        },
        "id": "Q5n_YpX7yU2B",
        "outputId": "d5c5c4ae-6eef-48ef-c105-1c18b64bb148"
      },
      "execution_count": 61,
      "outputs": [
        {
          "output_type": "stream",
          "name": "stdout",
          "text": [
            "b\n"
          ]
        }
      ]
    },
    {
      "cell_type": "code",
      "source": [
        "# 10) Write a code to reverse the list [10, 20, 30, 40, 50].\n",
        "list2 = [10, 20, 30, 40, 50]\n",
        "list2.reverse()\n",
        "print(list2)"
      ],
      "metadata": {
        "colab": {
          "base_uri": "https://localhost:8080/"
        },
        "id": "QsCE2zM3y0On",
        "outputId": "1c4c2ff3-64f3-4440-9659-ac0c10e189a2"
      },
      "execution_count": 64,
      "outputs": [
        {
          "output_type": "stream",
          "name": "stdout",
          "text": [
            "[50, 40, 30, 20, 10]\n"
          ]
        }
      ]
    },
    {
      "cell_type": "code",
      "source": [
        "# 11)  Write a code to create a tuple with the elements 100, 200, 300 and print it\n",
        "tuple1 = (100,200,300)\n",
        "print(tuple1)"
      ],
      "metadata": {
        "colab": {
          "base_uri": "https://localhost:8080/"
        },
        "id": "RPSk7yq6zGdR",
        "outputId": "ec9802f5-29c0-4b0b-c529-e8ed73dfb174"
      },
      "execution_count": 66,
      "outputs": [
        {
          "output_type": "stream",
          "name": "stdout",
          "text": [
            "(100, 200, 300)\n"
          ]
        }
      ]
    },
    {
      "cell_type": "code",
      "source": [
        "# 12) Write a code to access the second-to-last element of the tuple ('red', 'green', 'blue', 'yellow').\n",
        "tuple2 = ('red', 'green', 'blue', 'yellow')\n",
        "print(tuple2[-2])"
      ],
      "metadata": {
        "colab": {
          "base_uri": "https://localhost:8080/"
        },
        "id": "XejGdrXezWog",
        "outputId": "848bfcb0-8c8a-4c1f-a02c-47e1b52e15d4"
      },
      "execution_count": 68,
      "outputs": [
        {
          "output_type": "stream",
          "name": "stdout",
          "text": [
            "blue\n"
          ]
        }
      ]
    },
    {
      "cell_type": "code",
      "source": [
        "# 13) Write a code to find the minimum number in the tuple (10, 20, 5, 15).\n",
        "tuple1 = (10, 20, 5, 15)\n",
        "min_number = min(tuple1)\n",
        "print(min_number)"
      ],
      "metadata": {
        "colab": {
          "base_uri": "https://localhost:8080/"
        },
        "id": "h3T424WhztHu",
        "outputId": "b87ebb43-e064-4403-ed5d-512a94c28aff"
      },
      "execution_count": 72,
      "outputs": [
        {
          "output_type": "stream",
          "name": "stdout",
          "text": [
            "5\n"
          ]
        }
      ]
    },
    {
      "cell_type": "code",
      "source": [
        "# 14)  Write a code to find the index of the element \"cat\" in the tuple ('dog', 'cat', 'rabbit').\n",
        "tuple1 = ('dog', 'cat', 'rabbit')\n",
        "tuple1.index('cat')"
      ],
      "metadata": {
        "colab": {
          "base_uri": "https://localhost:8080/"
        },
        "id": "MRDB-xtU0juV",
        "outputId": "9701ec02-f994-4d96-fe1d-4ab475f8c229"
      },
      "execution_count": 74,
      "outputs": [
        {
          "output_type": "execute_result",
          "data": {
            "text/plain": [
              "1"
            ]
          },
          "metadata": {},
          "execution_count": 74
        }
      ]
    },
    {
      "cell_type": "code",
      "source": [
        "# 15)  Write a code to create a tuple containing three different fruits and check if \"kiwi\" is in it.\n",
        "tuple2 = (\"apple\", \"kiwi\", \"orange\")\n",
        "\"kiwi\" in tuple2"
      ],
      "metadata": {
        "colab": {
          "base_uri": "https://localhost:8080/"
        },
        "id": "AryHykPm06g7",
        "outputId": "859976e3-14de-4381-93e2-ae0c13373f33"
      },
      "execution_count": 80,
      "outputs": [
        {
          "output_type": "execute_result",
          "data": {
            "text/plain": [
              "True"
            ]
          },
          "metadata": {},
          "execution_count": 80
        }
      ]
    },
    {
      "cell_type": "code",
      "source": [
        "# 16)  Write a code to create a set with the elements 'a', 'b', 'c' and print it.\n",
        "set1 = {1,2,3,4}\n",
        "print(set1)"
      ],
      "metadata": {
        "colab": {
          "base_uri": "https://localhost:8080/"
        },
        "id": "WrSybIl-1bla",
        "outputId": "2a23551b-f34a-4a0c-f67a-7f5ffddb5111"
      },
      "execution_count": 82,
      "outputs": [
        {
          "output_type": "stream",
          "name": "stdout",
          "text": [
            "{1, 2, 3, 4}\n"
          ]
        }
      ]
    },
    {
      "cell_type": "code",
      "source": [
        "# 17)  Write a code to clear all elements from the set {1, 2, 3, 4, 5}.\n",
        "set1 = {1, 2, 3, 4, 5}\n",
        "set1.clear()\n",
        "print(set1)"
      ],
      "metadata": {
        "colab": {
          "base_uri": "https://localhost:8080/"
        },
        "id": "eo-DtMiQ1p76",
        "outputId": "08e21c5b-9db4-45ce-9e6f-b8a83eb6f165"
      },
      "execution_count": 85,
      "outputs": [
        {
          "output_type": "stream",
          "name": "stdout",
          "text": [
            "set()\n"
          ]
        }
      ]
    },
    {
      "cell_type": "code",
      "source": [
        "# 18) Write a code to remove the element 4 from the set {1, 2, 3, 4}.\n",
        "set2 = {1, 2, 3, 4}\n",
        "set2.remove(4)\n",
        "print(set2)"
      ],
      "metadata": {
        "colab": {
          "base_uri": "https://localhost:8080/"
        },
        "id": "SC3D97ll1_hn",
        "outputId": "89b4a08c-5c5d-46d4-a6e3-59a5b89f06f4"
      },
      "execution_count": 87,
      "outputs": [
        {
          "output_type": "stream",
          "name": "stdout",
          "text": [
            "{1, 2, 3}\n"
          ]
        }
      ]
    },
    {
      "cell_type": "code",
      "source": [
        "# 19)  Write a code to find the union of two sets {1, 2, 3} and {3, 4, 5}.\n",
        "set1 = {1, 2, 3}\n",
        "set2 = {3, 4, 5}\n",
        "set1|set2"
      ],
      "metadata": {
        "colab": {
          "base_uri": "https://localhost:8080/"
        },
        "id": "6eXoDwN62Q0g",
        "outputId": "709990b4-2df6-48c0-b578-54207b15b656"
      },
      "execution_count": 91,
      "outputs": [
        {
          "output_type": "execute_result",
          "data": {
            "text/plain": [
              "{1, 2, 3, 4, 5}"
            ]
          },
          "metadata": {},
          "execution_count": 91
        }
      ]
    },
    {
      "cell_type": "code",
      "source": [
        "# 20) Write a code to find the intersection of two sets {1, 2, 3} and {2, 3, 4}.\n",
        "set1 = {1, 2, 3}\n",
        "set2 = {2, 3, 4}\n",
        "set1&set2"
      ],
      "metadata": {
        "colab": {
          "base_uri": "https://localhost:8080/"
        },
        "id": "qisRv0d02t5V",
        "outputId": "c216e0f3-a799-4857-84c9-00562175b9a2"
      },
      "execution_count": 93,
      "outputs": [
        {
          "output_type": "execute_result",
          "data": {
            "text/plain": [
              "{2, 3}"
            ]
          },
          "metadata": {},
          "execution_count": 93
        }
      ]
    },
    {
      "cell_type": "code",
      "source": [
        "# 21) Write a code to create a dictionary with the keys \"name\", \"age\", and \"city\", and print it.\n",
        "dict_1 = {\"name\":\"Nishant\", \"age\":21, \"city\":\"Mumbai\"}\n",
        "print(dict_1)"
      ],
      "metadata": {
        "colab": {
          "base_uri": "https://localhost:8080/"
        },
        "id": "yvodjKHs3BHA",
        "outputId": "896ca14e-0ba4-4e2b-c026-f1118231c858"
      },
      "execution_count": 96,
      "outputs": [
        {
          "output_type": "stream",
          "name": "stdout",
          "text": [
            "{'name': 'Nishant', 'age': 21, 'city': 'Mumbai'}\n"
          ]
        }
      ]
    },
    {
      "cell_type": "code",
      "source": [
        "# 22)  Write a code to add a new key-value pair \"country\": \"USA\" to the dictionary {'name': 'John', 'age': 25}.\n",
        "dict_1 = {'name': 'John', 'age': 25}\n",
        "dict_1[\"country\"] = \"USA\"\n",
        "print(dict_1)"
      ],
      "metadata": {
        "colab": {
          "base_uri": "https://localhost:8080/"
        },
        "id": "3bfsC0Tp3qGp",
        "outputId": "6b8802f1-a4cd-4c65-e80e-c8f4f081f044"
      },
      "execution_count": 100,
      "outputs": [
        {
          "output_type": "stream",
          "name": "stdout",
          "text": [
            "{'name': 'John', 'age': 25, 'country': 'USA'}\n"
          ]
        }
      ]
    },
    {
      "cell_type": "code",
      "source": [
        "# 23) Write a code to access the value associated with the key \"name\" in the dictionary {'name': 'Alice', 'age': 30}.\n",
        "person = {'name': 'Alice', 'age': 30}\n",
        "value = person['name']\n",
        "print(value)"
      ],
      "metadata": {
        "colab": {
          "base_uri": "https://localhost:8080/"
        },
        "id": "c-6stnsi4loD",
        "outputId": "6d940208-133f-40ea-a5a9-56619bee3cf2"
      },
      "execution_count": 106,
      "outputs": [
        {
          "output_type": "stream",
          "name": "stdout",
          "text": [
            "Alice\n"
          ]
        }
      ]
    },
    {
      "cell_type": "code",
      "source": [
        "# 24) Write a code to remove the key \"age\" from the dictionary {'name': 'Bob', 'age': 22, 'city': 'New York'}.\n",
        "dict_1 = {'name': 'Bob', 'age': 22, 'city': 'New York'}\n",
        "del dict_1['age']\n",
        "print(dict_1)"
      ],
      "metadata": {
        "colab": {
          "base_uri": "https://localhost:8080/"
        },
        "id": "_3dYZRxl5iwI",
        "outputId": "6e443cfe-cffb-4fd1-9fdc-f1f43608a672"
      },
      "execution_count": 109,
      "outputs": [
        {
          "output_type": "stream",
          "name": "stdout",
          "text": [
            "{'name': 'Bob', 'city': 'New York'}\n"
          ]
        }
      ]
    },
    {
      "cell_type": "code",
      "source": [
        "# 25)  Write a code to check if the key \"city\" exists in the dictionary {'name': 'Alice', 'city': 'Paris'}.\n",
        "dict_1 = {'name': 'Alice', 'city': 'Paris'}\n",
        "if \"city\" in dict_1:\n",
        "  print (\"yes it exist\")\n",
        "else:\n",
        "  print(\"unavailable\")"
      ],
      "metadata": {
        "colab": {
          "base_uri": "https://localhost:8080/"
        },
        "id": "QtkWTuEO6CHg",
        "outputId": "8ee775e7-91eb-4e0e-e244-3a6f51268355"
      },
      "execution_count": 121,
      "outputs": [
        {
          "output_type": "stream",
          "name": "stdout",
          "text": [
            "yes it exist\n"
          ]
        }
      ]
    },
    {
      "cell_type": "code",
      "source": [
        "# 26) Write a code to create a list, a tuple, and a dictionary, and print them all.\n",
        "\n",
        "my_list = [1, 2, 3, 4, 5]\n",
        "\n",
        "my_tuple = ('a', 'b', 'c')\n",
        "\n",
        "my_dict = {'name': 'Alice', 'age': 25}\n",
        "\n",
        "print(\"List:\", my_list)\n",
        "print(\"Tuple:\", my_tuple)\n",
        "print(\"Dictionary:\", my_dict)"
      ],
      "metadata": {
        "colab": {
          "base_uri": "https://localhost:8080/"
        },
        "id": "dPc8RD9-7evy",
        "outputId": "807b6fa4-31db-445b-cc2b-4d79fa2069a9"
      },
      "execution_count": 123,
      "outputs": [
        {
          "output_type": "stream",
          "name": "stdout",
          "text": [
            "List: [1, 2, 3, 4, 5]\n",
            "Tuple: ('a', 'b', 'c')\n",
            "Dictionary: {'name': 'Alice', 'age': 25}\n"
          ]
        }
      ]
    },
    {
      "cell_type": "code",
      "source": [
        "# 27) Write a code to create a list of 5 random numbers between 1 and 100, sort it in ascending order, and print the result.(replaced).\n",
        "\n",
        "random_numbers = random.sample(range(1, 101), 5)\n",
        "\n",
        "random_numbers.sort()\n",
        "\n",
        "print(\"Sorted random numbers:\", random_numbers)\n"
      ],
      "metadata": {
        "colab": {
          "base_uri": "https://localhost:8080/"
        },
        "id": "CeHj5U3X7trM",
        "outputId": "28437a3d-322a-407c-f61f-11a95e284446"
      },
      "execution_count": 126,
      "outputs": [
        {
          "output_type": "stream",
          "name": "stdout",
          "text": [
            "Sorted random numbers: [5, 58, 59, 85, 98]\n"
          ]
        }
      ]
    },
    {
      "cell_type": "code",
      "source": [
        "# 28)  Write a code to create a list with strings and print the element at the third index.\n",
        "my_list = [\"apple\", \"banana\", \"cherry\", \"date\", \"elderberry\"]\n",
        "print(\"Element at third index:\", my_list[3])"
      ],
      "metadata": {
        "colab": {
          "base_uri": "https://localhost:8080/"
        },
        "id": "qRTXuoXP8DpU",
        "outputId": "f0422000-caa4-4b5a-908d-2e07f382971f"
      },
      "execution_count": 128,
      "outputs": [
        {
          "output_type": "stream",
          "name": "stdout",
          "text": [
            "Element at third index: date\n"
          ]
        }
      ]
    },
    {
      "cell_type": "code",
      "source": [
        "# 29) Write a code to combine two dictionaries into one and print the result.\n",
        "dict1 = {'name': 'Alice', 'age': 25}\n",
        "dict2 = {'city': 'Paris', 'country': 'France'}\n",
        "\n",
        "combined_dict = {**dict1, **dict2}\n",
        "\n",
        "print(\"Combined dictionary:\", combined_dict)\n"
      ],
      "metadata": {
        "colab": {
          "base_uri": "https://localhost:8080/"
        },
        "id": "WLq86gSm8PQ9",
        "outputId": "9c9ab7df-f56b-4697-e74b-1f32aacf4c23"
      },
      "execution_count": 130,
      "outputs": [
        {
          "output_type": "stream",
          "name": "stdout",
          "text": [
            "Combined dictionary: {'name': 'Alice', 'age': 25, 'city': 'Paris', 'country': 'France'}\n"
          ]
        }
      ]
    },
    {
      "cell_type": "code",
      "source": [
        "# 30) Write a code to convert a list of strings into a set.\n",
        "my_list = [\"apple\", \"banana\", \"cherry\", \"apple\", \"date\"]\n",
        "my_set = set(my_list)\n",
        "\n",
        "print(\"Converted set:\", my_set)\n"
      ],
      "metadata": {
        "colab": {
          "base_uri": "https://localhost:8080/"
        },
        "id": "1X-UXHDh8avL",
        "outputId": "c60dde32-c0e9-4332-f05c-e39e228dfa6a"
      },
      "execution_count": 131,
      "outputs": [
        {
          "output_type": "stream",
          "name": "stdout",
          "text": [
            "Converted set: {'date', 'cherry', 'apple', 'banana'}\n"
          ]
        }
      ]
    }
  ]
}